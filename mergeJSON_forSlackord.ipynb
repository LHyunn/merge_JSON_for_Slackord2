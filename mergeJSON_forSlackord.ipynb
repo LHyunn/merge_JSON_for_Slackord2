{
 "cells": [
  {
   "cell_type": "code",
   "execution_count": 1,
   "metadata": {},
   "outputs": [],
   "source": [
    "import os\n",
    "import json"
   ]
  },
  {
   "cell_type": "code",
   "execution_count": 6,
   "metadata": {},
   "outputs": [],
   "source": [
    "dir_path = \"/Users/l.hyun/Desktop/dais_BTS/DOL\"\n",
    "save_path = \"/Users/l.hyun/Desktop/dais_BTS/save/\""
   ]
  },
  {
   "cell_type": "code",
   "execution_count": 7,
   "metadata": {},
   "outputs": [],
   "source": [
    "folder_list =[]\n",
    "for (root, directories, files) in os.walk(dir_path):\n",
    "    for d in directories:\n",
    "        d_path = os.path.join(root, d)\n",
    "        folder_list.append(d_path)\n",
    "\n",
    "for i in folder_list:\n",
    "    file_list = []\n",
    "    for (root, directories, files) in os.walk(i):\n",
    "        for f in files:\n",
    "            f_path = os.path.join(root, f)\n",
    "            file_list.append(f_path)\n",
    "\n",
    "    merged = []\n",
    "    for j in file_list:\n",
    "        with open(j, \"r\", encoding=\"utf-8\") as infile:\n",
    "            data = json.load(infile)\n",
    "            for k in data:\n",
    "                merged.append(k)\n",
    "\n",
    "    with open(save_path + i.split(\"/\")[-1] + \".json\", \"w\", encoding=\"utf-8\") as outfile:\n",
    "        json.dump(merged, outfile, indent=4, ensure_ascii=False)"
   ]
  }
 ],
 "metadata": {
  "kernelspec": {
   "display_name": "Python 3.10.5 64-bit",
   "language": "python",
   "name": "python3"
  },
  "language_info": {
   "codemirror_mode": {
    "name": "ipython",
    "version": 3
   },
   "file_extension": ".py",
   "mimetype": "text/x-python",
   "name": "python",
   "nbconvert_exporter": "python",
   "pygments_lexer": "ipython3",
   "version": "3.10.5"
  },
  "orig_nbformat": 4,
  "vscode": {
   "interpreter": {
    "hash": "aee8b7b246df8f9039afb4144a1f6fd8d2ca17a180786b69acc140d282b71a49"
   }
  }
 },
 "nbformat": 4,
 "nbformat_minor": 2
}
